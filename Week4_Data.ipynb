{
 "cells": [
  {
   "cell_type": "markdown",
   "metadata": {},
   "source": [
    "> # Capstone Project - Battle of the Neighborhoods\n",
    "\n",
    "_Applied Data Science Specialization by IBM_\n",
    "\n",
    "**1. Introduction**  \n",
    "Definition of the business problem and the target audience.  \n",
    "**2. Data**  \n",
    "Description of the data and sources used to solve the problem.  \n",
    "**3. Methodology**  \n",
    "Discussion of the exploratory data analysis, the inferential statistical testing, and the machine learnings that were used.  \n",
    "**4. Results**  \n",
    "Presentation of the results.  \n",
    "**5. Discussion**  \n",
    "Observations and recommendations based on the results.  \n",
    "**6. Conclusion**  \n",
    "Final thoughts on the report."
   ]
  },
  {
   "cell_type": "markdown",
   "metadata": {},
   "source": [
    "## Introduction"
   ]
  },
  {
   "cell_type": "markdown",
   "metadata": {},
   "source": [
    "The owners of a successful gallery in Manhattan are looking at the prospect of expanding their business. Having considered many options for growth, they came to the conclusion that opening a second physical location is going to be their next move and San Fransisco was determined as the most ideal city for their target clientele.\n",
    "\n",
    "Our objective is to use data science in order to **choose the ideal location for the new gallery.**\n",
    "\n",
    "We will focus on some of the most *critical factors* that will contribute to the gallery's profitability, such as:\n",
    "\n",
    "1. Neighborhood safety, accessibility and visibility\n",
    "2. Surrounding businesses and possible competitors\n",
    "3. Space size and affordability  \n",
    "4. Comparative analysis of the neighborhoods of the existing and proposed locations\n"
   ]
  },
  {
   "cell_type": "markdown",
   "metadata": {},
   "source": [
    "## Data"
   ]
  },
  {
   "cell_type": "markdown",
   "metadata": {},
   "source": [
    "In order to approach the above-mentioned factors we will need to use different **types of data** from the available **sources.**\n",
    "\n",
    "* To determine the safety factor, we will use the San Fransisco Police Department's dataset that can provide us with incident reports filed by officers and by individuals through self-service online reporting for non-emergency cases.\n",
    "* To estimate how accessible the potential location will be by public or private means, we will refer to San Fransisco's public transportation geodata such as subway and bus stations as well as the MTA's on- and off- street parking census.\n",
    "* Using Foursquare to extract the most popular venues in the city we will establish the visibility factor that different neighborhoods can provide.\n",
    "* Foursquare analysis will be also used to avoid competition while simultaneously benefit from proximity with complimentary venues such as cafes and restaurants.\n",
    "* Information regarding spaces sizes and rending costs will be gathered from real estate agencies and accommodation search engines.\n",
    "* Since the existing gallery location is proved to have contributed to a successful business model in New York, we will critically compare the data for the two cities, in order to support our final location proposal."
   ]
  }
 ],
 "metadata": {
  "kernelspec": {
   "display_name": "Python 3",
   "language": "python",
   "name": "python3"
  },
  "language_info": {
   "codemirror_mode": {
    "name": "ipython",
    "version": 3
   },
   "file_extension": ".py",
   "mimetype": "text/x-python",
   "name": "python",
   "nbconvert_exporter": "python",
   "pygments_lexer": "ipython3",
   "version": "3.6.6"
  }
 },
 "nbformat": 4,
 "nbformat_minor": 2
}
