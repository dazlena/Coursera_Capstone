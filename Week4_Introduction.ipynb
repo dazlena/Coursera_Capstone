{
 "cells": [
  {
   "cell_type": "markdown",
   "metadata": {},
   "source": [
    "## Business problem definition"
   ]
  },
  {
   "cell_type": "markdown",
   "metadata": {},
   "source": [
    "Are you an aspiring restaurant owner looking to open the next top restaurant in the city of Thessaloniki? \n",
    "\n",
    "In your journey towards accomplishing this goal, you will need to make a few critical decisions. \n",
    "\n",
    "Taping into the plethora of data in my disposal, I will help you focus on two of the most important issues you are going to deal with:\n",
    "1. What type of restaurant has better chances to stand out among the existing options? \n",
    "2. What would the ideal restaurant location be?\n",
    "\n",
    "My approach in order to determine the type of the restaurant is to firstly *identify the clientele*. The city has a significant university students' population, a vivid hipster culture but a relatively small number of \"alternative\"-style restaurants (e.g. vegan, ethnic, themed etc). Based on the existing businesses and competitor analysis, I am going to determine what type of restaurant is going to have the most appeal on the above-mentioned demographic.\n",
    "\n",
    "Having established the restaurant type, I move on to the decision of the location of the restaurant, based on the *whereabouts of the target clientele*. Students and young people can be expected to frequent areas around specific points of interest and it is of great importance to identify these points and utilize them in the decision making progress."
   ]
  },
  {
   "cell_type": "code",
   "execution_count": null,
   "metadata": {},
   "outputs": [],
   "source": []
  }
 ],
 "metadata": {
  "kernelspec": {
   "display_name": "Python 3",
   "language": "python",
   "name": "python3"
  },
  "language_info": {
   "codemirror_mode": {
    "name": "ipython",
    "version": 3
   },
   "file_extension": ".py",
   "mimetype": "text/x-python",
   "name": "python",
   "nbconvert_exporter": "python",
   "pygments_lexer": "ipython3",
   "version": "3.6.6"
  }
 },
 "nbformat": 4,
 "nbformat_minor": 2
}
